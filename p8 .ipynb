{
 "cells": [
  {
   "cell_type": "markdown",
   "id": "e4238954-53d2-4d8f-ba23-c4214ae4a774",
   "metadata": {
    "slideshow": {
     "slide_type": "slide"
    }
   },
   "source": [
    "# Numerical Project : Paris Physics Master M1\n",
    "#### <div align = 'center'>Evaluating the ground state of molecular hamiltonian by using the VQE ([Variational Quantum EigenSolver](https://en.wikipedia.org/wiki/Variational_quantum_eigensolver))</div>\n",
    "\n",
    "<h4> Student 1: Murshed SK <br>\n",
    "Student 2: Mohammad Sadman Tamzid Hossain <br>\n",
    "Student 3: Abdelkhalek Bashandi </h4>"
   ]
  },
  {
   "cell_type": "markdown",
   "id": "e4327fca-7320-49b4-9500-9eab9e8bbbac",
   "metadata": {
    "slideshow": {
     "slide_type": "subslide"
    }
   },
   "source": [
    "A potential energy curve provides the ground-state energy of a molecule as a function of the distances between its constituent atoms. The global minima of the curve indicate the binding energy and internuclear distance for the stable molecule. Therefore, such a curve can be a powerful tool in computational chemistry, material science, Condensed Matter Physics, Optimization Problems, and many other fields.<br>\n",
    "The global minimum of this curve corresponds to the binding energy and the equilibrium bond length, making it a critical tool for predicting molecular structure and spectra.<br>\n",
    "This project demonstrates how to use [Classiq](https://www.classiq.io/)'s [Variational Quantum Eigensolver (VQE) package](https://www.classiq.io/insights/quantum-algorithms-vqe) to construct a potential energy curve for a diatomic molecule.<br>\n",
    "The resulting VQE energies are compared with those obtained from the [Hartree-Fock approximation](https://en.wikipedia.org/wiki/Hartree%E2%80%93Fock_method) and the exact solution derived from Hamiltonian diagonalization.<br>\n",
    "Through this computational approach, users can explore molecular interactions and gain insights into quantum chemistry with high precision and efficiency.  "
   ]
  },
  {
   "cell_type": "markdown",
   "id": "f2429896-46e3-4f67-82e6-dffa309f1c07",
   "metadata": {
    "slideshow": {
     "slide_type": "slide"
    }
   },
   "source": [
    "#### 0. Requirments:\n",
    "The model is using several Classiq's libraries"
   ]
  },
  {
   "cell_type": "code",
   "execution_count": 2,
   "id": "9364b17f-3f08-4b18-8b01-d2bbd746885e",
   "metadata": {
    "slideshow": {
     "slide_type": "subslide"
    }
   },
   "outputs": [],
   "source": [
    "# Import necessary libraries\n",
    "import time\n",
    "import matplotlib.pyplot as plt\n",
    "import numpy as np\n",
    "\n",
    "# We use the Classiq platform to build our model, execute it, and get the outcome.\n",
    "\n",
    "from classiq import *                                    #this imports all modules and functions from the Classiq framework.\n",
    "from classiq.applications.chemistry import (\n",
    "    ChemistryExecutionParameters,                        #this package configures execution settings.\n",
    "    HEAParameters,                                       #this package defines the Hardware Efficient Ansatz (HEA) parameters.\n",
    "    Molecule,                                            #this package represents a molecule and its properties.\n",
    "    MoleculeProblem,                                     #this package defines the problem to solve, here finding molecular energy levels.\n",
    "    UCCParameters,                                       #this package configures the Unitary Coupled Cluster (UCC) method for quantum chemistry simulations.\n",
    ")\n",
    "from classiq.execution import OptimizerType              #this package specifies the optimization algorithms for parameter tuning in VQE."
   ]
  },
  {
   "cell_type": "markdown",
   "id": "d1f21af6-14e7-4764-b1e4-b66a4283a190",
   "metadata": {
    "slideshow": {
     "slide_type": "slide"
    }
   },
   "source": [
    "#### 1. Initialization:\n",
    "In this section, we define the range of internuclear distances for the model to simulate and choose the number of sampling points in this range."
   ]
  },
  {
   "cell_type": "code",
   "execution_count": 3,
   "id": "0555d10a-6ff4-4647-b74b-288d96266ea1",
   "metadata": {
    "scrolled": true,
    "slideshow": {
     "slide_type": "subslide"
    }
   },
   "outputs": [
    {
     "name": "stdout",
     "output_type": "stream",
     "text": [
      "[0.2  0.4  0.6  0.8  1.   1.4  1.75 2.1  2.45 2.8  3.15 3.5 ]\n"
     ]
    }
   ],
   "source": [
    "# define the sampling parameters\n",
    "num1 = 5                       # number of sampling points\n",
    "start1 = 0.20                  # the sampling start distance\n",
    "stop1 = 1                      # the sampling end distance\n",
    "num2 = 7                       # how many sampling points\n",
    "start2 = 1.4                   # the sampling start distance\n",
    "stop2 = 3.5                    # the sampling end distance\n",
    "\n",
    "distance = np.append(np.linspace(start1, stop1, num1), np.linspace(start2, stop2, num2))\n",
    "print(distance)"
   ]
  },
  {
   "cell_type": "markdown",
   "id": "960c0552-2bea-4709-bc3d-5385ae11938e",
   "metadata": {
    "slideshow": {
     "slide_type": "slide"
    }
   },
   "source": [
    "#### 2. Define the model:\n",
    "##### 2.1. In the next several code cells we have developed the model by creating the molecule."
   ]
  },
  {
   "cell_type": "code",
   "execution_count": 4,
   "id": "c62a81db-ae84-4f1a-adf7-2d5d164bd6de",
   "metadata": {
    "scrolled": true,
    "slideshow": {
     "slide_type": "subslide"
    }
   },
   "outputs": [],
   "source": [
    "# Define the function for creating the molecule\n",
    "def create_molecule(x):\n",
    "    \"\"\"Create a molecule with a distance 'x' between hydrogen atoms.\"\"\"\n",
    "    return Molecule(atoms=[(\"H\", (0.0, 0.0, 0.0)),              # The first atom is at the origin\n",
    "                           (\"H\", (0.0, 0.0, float(x)))          # The second atom's position depends on the distance x (along the z-axis)\n",
    "                          ])"
   ]
  },
  {
   "cell_type": "markdown",
   "id": "dc9656ac-d747-4c71-ac74-ba3a85e4ca83",
   "metadata": {
    "slideshow": {
     "slide_type": "slide"
    }
   },
   "source": [
    "##### 2.2. Then we proposed the problem where our molecule is a hydrogen atom, we used [`Jordan–Wigner transformation`](https://en.wikipedia.org/wiki/Jordan%E2%80%93Wigner_transformation) to map the Hamiltonian to the qubits. We used [Z2-Symmetries](https://www.physicsforums.com/threads/understanding-z2-symmetry-in-models.290434/) to reduce the problem using known symmetries and Frozen-Core Approximation to not include the core electorns. This speed ups the calculation power. "
   ]
  },
  {
   "cell_type": "code",
   "execution_count": 5,
   "id": "7a50f22e-4228-4842-ab08-88f0c4d501cf",
   "metadata": {
    "slideshow": {
     "slide_type": "subslide"
    }
   },
   "outputs": [],
   "source": [
    "# Define the problem to solve: finding the ground state energy of the hydrogen molecule\n",
    "def problem(molecule):\n",
    "    \"\"\"Define the quantum chemistry problem.\"\"\"\n",
    "    return MoleculeProblem(\n",
    "        molecule=molecule,                    # Associates the problem with the molecule defined above\n",
    "        mapping=\"jordan_wigner\",              # Specifies how the problem (Hamiltonian) is mapped to qubits\n",
    "        z2_symmetries=True,                   # Indicates whether to reduce the problem size using known symmetries, speeding up computations\n",
    "        freeze_core=True,                     # Uses the frozen-core approximation, where core electrons are not included in calculations\n",
    "    )"
   ]
  },
  {
   "cell_type": "markdown",
   "id": "64d8eee0-1446-4c3a-8200-2225f190b96f",
   "metadata": {
    "slideshow": {
     "slide_type": "slide"
    }
   },
   "source": [
    "##### 2.3. After defining the problem, we developed the propsed model using Hartree-Fock approximation. We use [Unitary Coupled Cluster(UCC) Ansatz](https://arxiv.org/abs/2109.15176) to use the potential of single and double excitation, [COBYLA optimization method](https://docs.scipy.org/doc/scipy/reference/optimize.minimize-cobyla.html) for minimizing energy in VQE. We limit our iteration to optimize the calculation."
   ]
  },
  {
   "cell_type": "code",
   "execution_count": 6,
   "id": "0adf8b85-9b56-414c-be97-582f85bd245a",
   "metadata": {
    "slideshow": {
     "slide_type": "subslide"
    }
   },
   "outputs": [],
   "source": [
    "# Create a quantum model for solving the problem\n",
    "def model(chemistry_problem):\n",
    "    \"\"\"Create the quantum model based on the chemistry problem.\"\"\"\n",
    "    return construct_chemistry_model(\n",
    "        chemistry_problem=chemistry_problem,                  #creates a quantum model for solving the chemistry problem\n",
    "        use_hartree_fock=True,                                # Specifies the Hartree-Fock initial state for the calculation\n",
    "        ansatz_parameters=UCCParameters(excitations=[1, 2]),  # Specifies that the ansatz should include both single and double excitations\n",
    "        execution_parameters=ChemistryExecutionParameters(\n",
    "            optimizer=OptimizerType.COBYLA,                   # COBYLA optimization method is used for minimizing energy in VQE\n",
    "            max_iteration=30,                                 # Limits the optimization to 30 iterations\n",
    "            initial_point=None,                               # No specific initial point for the optimization\n",
    "        ),\n",
    "    )"
   ]
  },
  {
   "cell_type": "markdown",
   "id": "77357b47-1dde-45a8-8f01-8b0205c92253",
   "metadata": {
    "slideshow": {
     "slide_type": "slide"
    }
   },
   "source": [
    "##### 2.4. Then we synthesize our model and execute the model to get the desired results."
   ]
  },
  {
   "cell_type": "code",
   "execution_count": 7,
   "id": "eb056638-a4d6-4c83-87bc-88ada1a364c4",
   "metadata": {
    "slideshow": {
     "slide_type": "subslide"
    }
   },
   "outputs": [],
   "source": [
    "def synthesize_and_execute(qmod, is_last=False):\n",
    "    \"\"\"Execute the quantum program and return results.\n",
    "    Args:\n",
    "        qmod: The quantum model.\n",
    "        is_last (bool): If True, show the quantum program for the last execution.\n",
    "    \"\"\"\n",
    "    quantum_program = synthesize(qmod)  # Synthesize the quantum program from the model\n",
    "    \n",
    "    # Show the quantum program only for the last execution\n",
    "    if is_last:\n",
    "        show(quantum_program)  # Display the quantum circuit\n",
    "    \n",
    "    job = execute(quantum_program)  # Execute the quantum program\n",
    "    results_dict = job.result()[1].value  # Retrieve the results from the execution\n",
    "    return results_dict\n"
   ]
  },
  {
   "cell_type": "markdown",
   "id": "a94ea032-f54b-4f4e-928b-af4261597802",
   "metadata": {
    "slideshow": {
     "slide_type": "slide"
    }
   },
   "source": [
    "##### 2.5. We define a function to find the exact energy of the model/system. To do so we create the operator and the convert this operator to matrix. Then we diagonalize the hamiltonian to find the exact energy eigenvalues."
   ]
  },
  {
   "cell_type": "code",
   "execution_count": 8,
   "id": "dcc686a7-e268-4946-a9dc-f1568d65084c",
   "metadata": {
    "slideshow": {
     "slide_type": "subslide"
    }
   },
   "outputs": [],
   "source": [
    "# Compute exact energy (diagonalizing the Hamiltonian)\n",
    "def exact_energy(chemistry_problem, results_dict):\n",
    "    \"\"\"\n",
    "    Computes the exact energy of the molecule by diagonalizing the Hamiltonian\n",
    "    and adding the nuclear repulsion energy from the results dictionary.\n",
    "    \n",
    "    Args:\n",
    "        chemistry_problem: The problem that includes the molecule and its Hamiltonian.\n",
    "        results_dict: The results dictionary containing nuclear repulsion energy.\n",
    "\n",
    "    Returns:\n",
    "        float: The computed exact energy.\n",
    "    \"\"\"\n",
    "    # Compute exact energy (diagonalizing the Hamiltonian)\n",
    "    operator = chemistry_problem.generate_hamiltonian()\n",
    "    mat = operator.to_matrix()                               # Convert operator to matrix form\n",
    "    w, v = np.linalg.eig(mat)                                # Diagonalize the Hamiltonian (find eigenvalues)\n",
    "    \n",
    "    # Calculate exact energy (lowest eigenvalue + nuclear repulsion energy)\n",
    "    return np.real(min(w)) + results_dict[\"nuclear_repulsion_energy\"]\n"
   ]
  },
  {
   "cell_type": "markdown",
   "id": "b4646201-22b6-4fa3-84d6-11515c6576f3",
   "metadata": {
    "slideshow": {
     "slide_type": "slide"
    }
   },
   "source": [
    "##### 2.6. We again define a function to store our outcome energies i.e. hartee - fock energy, VQE energy and exact energy."
   ]
  },
  {
   "cell_type": "code",
   "execution_count": 9,
   "id": "b0a22586-0bb4-436e-b098-06d5f789bcd2",
   "metadata": {
    "slideshow": {
     "slide_type": "subslide"
    }
   },
   "outputs": [],
   "source": [
    "# Store energies and intermediate results\n",
    "def store_energies(results_dict, exact_energy, VQE_energy, HF_energy, exact_energies):\n",
    "    \"\"\"Store computed energies in respective lists.\"\"\"\n",
    "    VQE_energy.append(results_dict[\"total_energy\"])\n",
    "    HF_energy.append(results_dict[\"hartree_fock_energy\"])\n",
    "    \n",
    "    # Ensure exact_energy is always a list\n",
    "    if isinstance(exact_energy, list):\n",
    "        exact_energies.extend(exact_energy)           # If it's a list, append the values\n",
    "    else:\n",
    "        exact_energies.append(exact_energy)           # If it's not, append the single value\n"
   ]
  },
  {
   "cell_type": "markdown",
   "id": "addade14-86c1-4d2f-8375-d70bc7dce582",
   "metadata": {
    "slideshow": {
     "slide_type": "slide"
    }
   },
   "source": [
    "#### 3. Run the model:\n"
   ]
  },
  {
   "cell_type": "code",
   "execution_count": 10,
   "id": "5c3caae1-c007-459d-a788-9f42292f6d0e",
   "metadata": {
    "slideshow": {
     "slide_type": "subslide"
    }
   },
   "outputs": [
    {
     "name": "stdout",
     "output_type": "stream",
     "text": [
      "Time taken for distance 0.20: 8.89 seconds\n",
      "Time taken for distance 0.40: 6.50 seconds\n",
      "Time taken for distance 0.60: 7.50 seconds\n",
      "Time taken for distance 0.80: 7.28 seconds\n",
      "Time taken for distance 1.00: 13.49 seconds\n",
      "Time taken for distance 1.40: 6.14 seconds\n",
      "Time taken for distance 1.75: 7.00 seconds\n",
      "Time taken for distance 2.10: 7.35 seconds\n",
      "Time taken for distance 2.45: 6.67 seconds\n",
      "Time taken for distance 2.80: 6.03 seconds\n",
      "Time taken for distance 3.15: 7.01 seconds\n",
      "Time taken for distance 3.50: 7.18 seconds\n"
     ]
    }
   ],
   "source": [
    "# Main loop to process different distances\n",
    "VQE_energy = []                            # Initialize as an empty list\n",
    "HF_energy = []                             # Initialize as an empty list\n",
    "exact_energies = []                        # Initialize as an empty list\n",
    "\n",
    "# Loop through each distance value\n",
    "for x in distance:                         # Loop through each distance value\n",
    "    time1 = time.time()\n",
    "\n",
    "    # Create the molecule for this distance\n",
    "    molecule = create_molecule(x)\n",
    "    \n",
    "    # Solve the problem\n",
    "    chemistry_problem = problem(molecule)\n",
    "    \n",
    "    # Create the quantum model\n",
    "    qmod = model(chemistry_problem)\n",
    "    \n",
    "    # Check if it's the last distance and pass the flag\n",
    "    # is_last = (x == distance[-1])\n",
    "    \n",
    "    # Synthesize and execute the quantum program\n",
    "    results_dict = synthesize_and_execute(qmod, is_last=False)\n",
    "    \n",
    "    # Compute exact energy using the exact_energy function\n",
    "    result_exact = exact_energy(chemistry_problem, results_dict)\n",
    "\n",
    "    # Store energies (pass all lists here)\n",
    "    store_energies(results_dict, result_exact, VQE_energy, HF_energy, exact_energies)\n",
    "\n",
    "    time2 = time.time()\n",
    "    print(f\"Time taken for distance {x:.2f}: {(time2 - time1):.2f} seconds\")"
   ]
  },
  {
   "cell_type": "markdown",
   "id": "d18295e5-023f-4f73-8647-b41c4fcf679d",
   "metadata": {
    "slideshow": {
     "slide_type": "slide"
    }
   },
   "source": [
    "#### 4. Plot the data i.e. distance versus energy graph:"
   ]
  },
  {
   "cell_type": "code",
   "execution_count": 11,
   "id": "a84b827f-ac3c-43ca-8ed7-967947f8f023",
   "metadata": {
    "scrolled": true,
    "slideshow": {
     "slide_type": "subslide"
    }
   },
   "outputs": [
    {
     "data": {
      "image/png": "[encoded data removed]",
      "text/plain": [
       "<Figure size 640x480 with 1 Axes>"
      ]
     },
     "metadata": {},
     "output_type": "display_data"
    }
   ],
   "source": [
    "plt.plot(distance, VQE_energy, \"r--\", \n",
    "         distance, HF_energy, \"bs\", \n",
    "         distance, exact_energies, \"go\")\n",
    "\n",
    "\n",
    "plt.xlabel(r\"distance between atoms [ $\\AA$ ]\")\n",
    "plt.ylabel(\"energy [ $H_a$ ]\")\n",
    "plt.legend([\"Classiq's VQE\", \"Hartree-Fock\", \"Exact solution\"])\n",
    "plt.title(\"Binding Curve for $H_{2}$ molecule\")\n",
    "plt.grid()\n",
    "\n",
    "plt.show()"
   ]
  },
  {
   "cell_type": "markdown",
   "id": "df6e8246-2f23-452e-aab5-4c3255555c4d",
   "metadata": {
    "slideshow": {
     "slide_type": "slide"
    }
   },
   "source": [
    "#### 5. Results:\n",
    "We have extracted  total energy, the repulsion energy, the hartee-fock energy, the VQE data, the hamiltonian of the system."
   ]
  },
  {
   "cell_type": "code",
   "execution_count": 12,
   "id": "166a5c3c-13af-4947-9c0c-407795b99354",
   "metadata": {
    "scrolled": true,
    "slideshow": {
     "slide_type": "subslide"
    }
   },
   "outputs": [
    {
     "name": "stdout",
     "output_type": "stream",
     "text": [
      "Nuclear Repulsion Energy: 0.15119348883428574\n",
      "Total Energy: -0.9331720448208493\n",
      "Hartree Fock Energy: -0.629820110121346\n",
      "VQE Energy: {'energy': -1.084365533655135, 'time': 0.46463489532470703, 'solution': None, 'eigenstate': {'1': '(0.6651186454310238+0j)', '0': '(0.7467376965842826+0j)'}, 'reduced_probabilities': {'1': 0.4423828125, '0': 0.5576171875}, 'optimized_circuit_sample_results': {'vendor_format_result': {}, 'counts': {'1': 906, '0': 1142}, 'counts_lsb_right': True, 'probabilities': {}, 'parsed_states': {'1': {'qbv': [1]}, '0': {'qbv': [0]}}, 'histogram': None, 'output_qubits_map': {'qbv': [0]}, 'state_vector': None, 'parsed_state_vector_states': None, 'physical_qubits_map': {'qbv': [0]}, 'num_shots': 2048}, 'intermediate_results': [{'utc_time': '2024-12-11T23:09:53.456489Z', 'iteration_number': 1, 'parameters': [1.6049725266901218], 'mean_all_solutions': -0.7839700315356857, 'solutions': [], 'standard_deviation': 0.0}, {'utc_time': '2024-12-11T23:09:53.482540Z', 'iteration_number': 2, 'parameters': [2.604972526690122], 'mean_all_solutions': -1.052122028994532, 'solutions': [], 'standard_deviation': 0.0}, {'utc_time': '2024-12-11T23:09:53.511640Z', 'iteration_number': 3, 'parameters': [3.604972526690122], 'mean_all_solutions': -0.5289363303126603, 'solutions': [], 'standard_deviation': 0.0}, {'utc_time': '2024-12-11T23:09:53.540514Z', 'iteration_number': 4, 'parameters': [3.104972526690122], 'mean_all_solutions': -0.802297762237776, 'solutions': [], 'standard_deviation': 0.0}, {'utc_time': '2024-12-11T23:09:53.564319Z', 'iteration_number': 5, 'parameters': [2.354972526690122], 'mean_all_solutions': -1.084192940768657, 'solutions': [], 'standard_deviation': 0.0}, {'utc_time': '2024-12-11T23:09:53.589763Z', 'iteration_number': 6, 'parameters': [2.104972526690122], 'mean_all_solutions': -1.0439454080489687, 'solutions': [], 'standard_deviation': 0.0}, {'utc_time': '2024-12-11T23:09:53.619712Z', 'iteration_number': 7, 'parameters': [2.229972526690122], 'mean_all_solutions': -1.0747482983832566, 'solutions': [], 'standard_deviation': 0.0}, {'utc_time': '2024-12-11T23:09:53.647147Z', 'iteration_number': 8, 'parameters': [2.417472526690122], 'mean_all_solutions': -1.084365533655135, 'solutions': [], 'standard_deviation': 0.0}, {'utc_time': '2024-12-11T23:09:53.675409Z', 'iteration_number': 9, 'parameters': [2.448722526690122], 'mean_all_solutions': -1.0812555039164897, 'solutions': [], 'standard_deviation': 0.0}, {'utc_time': '2024-12-11T23:09:53.704191Z', 'iteration_number': 10, 'parameters': [2.401847526690122], 'mean_all_solutions': -1.0840693984901046, 'solutions': [], 'standard_deviation': 0.0}, {'utc_time': '2024-12-11T23:09:53.728125Z', 'iteration_number': 11, 'parameters': [2.425285026690122], 'mean_all_solutions': -1.0829915411510387, 'solutions': [], 'standard_deviation': 0.0}, {'utc_time': '2024-12-11T23:09:53.755470Z', 'iteration_number': 12, 'parameters': [2.413566276690122], 'mean_all_solutions': -1.0842914998638775, 'solutions': [], 'standard_deviation': 0.0}, {'utc_time': '2024-12-11T23:09:53.792016Z', 'iteration_number': 13, 'parameters': [2.419425651690122], 'mean_all_solutions': -1.0838142914581352, 'solutions': [], 'standard_deviation': 0.0}, {'utc_time': '2024-12-11T23:09:53.823269Z', 'iteration_number': 14, 'parameters': [2.416495964190122], 'mean_all_solutions': -1.0843490817015222, 'solutions': [], 'standard_deviation': 0.0}, {'utc_time': '2024-12-11T23:09:53.852318Z', 'iteration_number': 15, 'parameters': [2.417960807940122], 'mean_all_solutions': -1.084365533655135, 'solutions': [], 'standard_deviation': 0.0}, {'utc_time': '2024-12-11T23:09:53.883879Z', 'iteration_number': 16, 'parameters': [2.4175225266901217], 'mean_all_solutions': -1.084365533655135, 'solutions': [], 'standard_deviation': 0.0}], 'optimal_parameters': {'param_0': 2.417472526690122}, 'convergence_graph_str': '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', 'num_solutions': None, 'num_shots': 2048}\n",
      "The hamiltonian is :\n",
      "-0.773 * I\n",
      "-0.008 * Z\n",
      "+0.312 * X\n"
     ]
    }
   ],
   "source": [
    "# Extract the intermediate results and other relevant data from the results\n",
    "nuclear_repulsion_energy = results_dict.get('nuclear_repulsion_energy')\n",
    "total_energy = results_dict.get('total_energy')\n",
    "hartree_fock_energy = results_dict.get('hartree_fock_energy')\n",
    "vqe_result = results_dict.get('vqe_result')\n",
    "\n",
    "intermediate_results = results_dict.get('vqe_result', {}).get('intermediate_results', [])\n",
    "\n",
    "# Print the energy data first\n",
    "print(f\"Nuclear Repulsion Energy: {nuclear_repulsion_energy}\")\n",
    "print(f\"Total Energy: {total_energy}\")\n",
    "print(f\"Hartree Fock Energy: {hartree_fock_energy}\")\n",
    "print(f\"VQE Energy: {vqe_result}\")\n",
    "\n",
    "\n",
    "operator = chemistry_problem.generate_hamiltonian()\n",
    "gs_problem = chemistry_problem.update_problem(operator.num_qubits)\n",
    "print(\"The hamiltonian is :\", operator.show(), sep = \"\\n\")"
   ]
  },
  {
   "cell_type": "code",
   "execution_count": 13,
   "id": "997346ce-0dfc-4302-81a8-6784a1f5c0e8",
   "metadata": {
    "scrolled": true,
    "slideshow": {
     "slide_type": "slide"
    }
   },
   "outputs": [
    {
     "name": "stdout",
     "output_type": "stream",
     "text": [
      "Opening: https://platform.classiq.io/circuit/f93339d2-276c-43df-a811-0c6a48c78e8a?version=0.61.0\n"
     ]
    }
   ],
   "source": [
    "# show(quantum_program)\n",
    "is_last = (x == distance[-1])\n",
    "\n",
    "# Synthesize and execute the quantum program: this will give the circuit diagram.\n",
    "results_dict = synthesize_and_execute(qmod, is_last=is_last)"
   ]
  },
  {
   "cell_type": "markdown",
   "id": "02e09340-4d0c-4eae-83e9-05f3205ed6fe",
   "metadata": {
    "slideshow": {
     "slide_type": "slide"
    }
   },
   "source": [
    "After going to this above link(which is linked via API), We get the quantum circuit for this method:\n"
   ]
  },
  {
   "cell_type": "markdown",
   "id": "f5436b2a-bf61-4258-ab17-4fc7e53d7fba",
   "metadata": {
    "slideshow": {
     "slide_type": "slide"
    }
   },
   "source": [
    "##### 5.1. We have presented our data in terms of iteration number, error and standard deviation."
   ]
  },
  {
   "cell_type": "code",
   "execution_count": 14,
   "id": "8fb1d935-b2f4-4938-9d3d-a3c5ba36e0a5",
   "metadata": {
    "slideshow": {
     "slide_type": "subslide"
    }
   },
   "outputs": [
    {
     "name": "stdout",
     "output_type": "stream",
     "text": [
      "Iteration\tParameters\t\tMean All Solutions\tError (Δ)\tStandard Deviation\n",
      "====================================================================================================\n",
      "1\t\t1.604973\t\t-0.783970\t\t0.000000\t\t0.0\n",
      "2\t\t2.604973\t\t-1.052122\t\t0.268152\t\t0.0\n",
      "3\t\t3.604973\t\t-0.528936\t\t0.523186\t\t0.0\n",
      "4\t\t3.104973\t\t-0.802298\t\t0.273361\t\t0.0\n",
      "5\t\t2.354973\t\t-1.084193\t\t0.281895\t\t0.0\n",
      "6\t\t2.104973\t\t-1.043945\t\t0.040248\t\t0.0\n",
      "7\t\t2.229973\t\t-1.074748\t\t0.030803\t\t0.0\n",
      "8\t\t2.417473\t\t-1.084366\t\t0.009617\t\t0.0\n",
      "9\t\t2.448723\t\t-1.081256\t\t0.003110\t\t0.0\n",
      "10\t\t2.401848\t\t-1.084069\t\t0.002814\t\t0.0\n",
      "11\t\t2.425285\t\t-1.082992\t\t0.001078\t\t0.0\n",
      "12\t\t2.413566\t\t-1.084291\t\t0.001300\t\t0.0\n",
      "13\t\t2.419426\t\t-1.083814\t\t0.000477\t\t0.0\n",
      "14\t\t2.416496\t\t-1.084349\t\t0.000535\t\t0.0\n",
      "15\t\t2.417961\t\t-1.084366\t\t0.000016\t\t0.0\n",
      "16\t\t2.417523\t\t-1.084366\t\t0.000000\t\t0.0\n"
     ]
    }
   ],
   "source": [
    "# Extracting the intermediate results\n",
    "intermediate_results = results_dict[\"vqe_result\"][\"intermediate_results\"]\n",
    "\n",
    "# Printing the table header\n",
    "print(\"Iteration\\tParameters\\t\\tMean All Solutions\\tError (\\u0394)\\tStandard Deviation\")\n",
    "print(\"=\"*100)\n",
    "\n",
    "# Loop through the intermediate results and calculate the errors\n",
    "previous_mean = None\n",
    "for result in intermediate_results:\n",
    "    iteration = result[\"iteration_number\"]\n",
    "    parameters = \", \".join(f\"{p:.6f}\" for p in result[\"parameters\"])  # Format parameters to 6 decimal places\n",
    "    mean_solution = result[\"mean_all_solutions\"]  # Current mean_all_solutions\n",
    "    error = abs(mean_solution - previous_mean) if previous_mean is not None else 0.0  # Calculate error\n",
    "    SD = result[\"standard_deviation\"]\n",
    "    print(f\"{iteration}\\t\\t{parameters}\\t\\t{mean_solution:.6f}\\t\\t{error:.6f}\\t\\t{SD}\")\n",
    "    previous_mean = mean_solution  # Update the previous mean for the next iteration\n"
   ]
  },
  {
   "cell_type": "markdown",
   "id": "db77778f-826d-4c7b-8e13-8ccd0ecf15a7",
   "metadata": {
    "slideshow": {
     "slide_type": "slide"
    }
   },
   "source": [
    "#### 6. Comments:\n",
    "Through this project we have seen that how the Variational Quantum Eigensolver (VQE) can accurately approximate molecular ground-state energies and potential energy curves. It gives us more accurate ground state energy compared to classical hartee - fock method. The results demonstrate that VQE provides better accuracy compared to the Hartree-Fock method by effectively capturing electron correlations. This project also give an intuition about the importance of potential energy curves in predicting molecular properties such as bond lengths, binding energies, and spectra, which are crucial for understanding molecular stability and behavior. The use of the Classiq framework simplifies the implementation of quantum algorithms, making it easier to solve complex problems in computational chemistry."
   ]
  },
  {
   "cell_type": "markdown",
   "id": "6fcd0d7a-54da-43c3-b7b5-f26c530cbd6d",
   "metadata": {
    "slideshow": {
     "slide_type": "slide"
    }
   },
   "source": [
    "#### 7. References:\n",
    "\n",
    "1. Peruzzo, A., McClean, J., Shadbolt, P., Yung, M.-H., Zhou, X.-Q., Love, P. J., Aspuru-Guzik, A., & O'Brien, J. L. (2014). [A variational eigenvalue solver on a photonic quantum processor](https://doi.org/10.1038/ncomms5213). *Nature Communications*, **5**, 4213.\n",
    "\n",
    "2. McClean, J. R., Romero, J., Babbush, R., & Aspuru-Guzik, A. (2016). *The theory of variational hybrid quantum-classical algorithms*. *New Journal of Physics*, **18**, 023023.\n",
    "\n",
    "3. Kandala, A., Mezzacapo, A., Temme, K., Takita, M., Brink, M., Chow, J. M., & Gambetta, J. M. (2017). *Hardware-efficient variational quantum eigensolver for small molecules and quantum magnets*. *Nature*, **549**, 242-246.\n",
    "\n",
    "4. Cerezo, M., Arrasmith, A., Babbush, R., Benjamin, S. C., Endo, S., Fujii, K., McClean, J. R., Mitarai, K., Yuan, X., Cincio, L., & Coles, P. J. (2021). *Variational quantum algorithms*. *Nature Reviews Physics*, **3**, 625-644.\n",
    "\n",
    "5. Naeij, H. R., Mahmoudi, E., Yeganeh, H. D., & Akbari, M. (2024). *Molecular Electronic Structure Calculation via a Quantum Computer*. arXiv preprint.\n",
    "\n",
    "6. Seeley, J. T., Richard, M. J., & Love, P. J. (2012). *The Bravyi-Kitaev transformation for quantum computation of electronic structure*. *Journal of Chemical Physics*, **137**, 224109.\n",
    "\n",
    "7. Grimsley, H. R., Economou, S. E., Barnes, E., & Mayhall, N. J. (2019). *An adaptive variational algorithm for exact molecular simulations on a quantum computer*. *Nature Communications*, **10**, 1.\n",
    "\n",
    "8. [Classiq](https://www.classiq.io/) Platform for running the code.\n",
    "\n",
    "9. Maomin Qing and Wei Xie, Use VQE to Calculate the Ground Energy of Hydrogen Molecules on IBM Quantum, arXiv:2305.06538v1 (2023). https://arxiv.org/abs/2305.06538\n",
    "\n",
    "10. Naeij, H. R., Mahmoudi, E., Davoodi Yeganeh, H., & Akbari, M. (2023). Molecular electronic structure calculation via a quantum computer. arXiv. https://arxiv.org/abs/2303.09911"
   ]
  }
 ],
 "metadata": {
  "celltoolbar": "Slideshow",
  "kernelspec": {
   "display_name": "Python 3 (ipykernel)",
   "language": "python",
   "name": "python3"
  },
  "language_info": {
   "codemirror_mode": {
    "name": "ipython",
    "version": 3
   },
   "file_extension": ".py",
   "mimetype": "text/x-python",
   "name": "python",
   "nbconvert_exporter": "python",
   "pygments_lexer": "ipython3",
   "version": "3.9.13"
  }
 },
 "nbformat": 4,
 "nbformat_minor": 5
}
